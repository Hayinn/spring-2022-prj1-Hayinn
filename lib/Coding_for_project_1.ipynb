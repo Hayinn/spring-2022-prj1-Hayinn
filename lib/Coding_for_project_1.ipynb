{
 "cells": [
  {
   "cell_type": "code",
   "execution_count": null,
   "id": "d89d95d5",
   "metadata": {},
   "outputs": [],
   "source": [
    "# import packages\n",
    "import numpy as np\n",
    "import pandas as pd\n",
    "import matplotlib.pyplot as plt\n",
    "\n",
    "import nltk\n",
    "# nltk.download('vader_lexicon')\n",
    "from nltk.sentiment.vader import SentimentIntensityAnalyzer as sid\n",
    "import text2emotion as te\n",
    "\n",
    "from os import path\n",
    "from PIL import Image\n",
    "from wordcloud import WordCloud, STOPWORDS, ImageColorGenerator"
   ]
  },
  {
   "cell_type": "code",
   "execution_count": null,
   "id": "6b492411",
   "metadata": {},
   "outputs": [],
   "source": [
    "# read csv\n",
    "df = pd.read_csv(r\"C:\\Users\\94333\\Python\\Github\\spring-2022-prj1-Hayinn\\data\\philosophy_data.csv\")\n",
    "df.dropna(inplace=True)"
   ]
  },
  {
   "cell_type": "code",
   "execution_count": null,
   "id": "ba138ce8",
   "metadata": {},
   "outputs": [],
   "source": [
    "# define a function to define the sentiment analysis result \n",
    "def senan(c):\n",
    "    if c>0:\n",
    "        a = \"pos\"\n",
    "    elif c<0:\n",
    "        a = \"neg\"\n",
    "    else:\n",
    "        a =\"neu\"\n",
    "    return a   "
   ]
  },
  {
   "cell_type": "code",
   "execution_count": null,
   "id": "bdcbd989",
   "metadata": {},
   "outputs": [],
   "source": [
    "# use sentiment analysis processing data\n",
    "Sid = sid()\n",
    "df['scores'] = df['sentence_spacy'].apply(lambda sentence_spacy: Sid.polarity_scores(sentence_spacy))\n",
    "df['compound'] = df['scores'].apply(lambda score_dict: score_dict['compound'])\n",
    "df['comp_score'] = df['compound'].apply(senan)\n",
    "df.to_csv(r'C:\\Users\\94333\\Python\\Github\\spring-2022-prj1-Hayinn\\output\\data_new')\n",
    "df"
   ]
  },
  {
   "cell_type": "code",
   "execution_count": null,
   "id": "031f8419",
   "metadata": {},
   "outputs": [],
   "source": [
    "# extract authors name\n",
    "authors = pd.Series(df['author']).unique()\n",
    "\n",
    "# plot a bar graph with authors and sentment analysis result\n",
    "df2=pd.DataFrame(np.zeros((36, 3),int),index=pd.Series(df['author']).unique(),columns=pd.Index(['pos', 'neg',\"neu\"]))\n",
    "for senti in [\"pos\", 'neg',\"neu\"]:\n",
    "    for name in authors:\n",
    "        tempdf = df[df['comp_score']==senti]\n",
    "        tempdf = tempdf[tempdf[\"author\"]==name]\n",
    "        num = len(tempdf)\n",
    "        df2[senti][name]=num \n",
    "        \n",
    "df2.plot.bar()"
   ]
  },
  {
   "cell_type": "code",
   "execution_count": null,
   "id": "c9defeab",
   "metadata": {},
   "outputs": [],
   "source": [
    "# extract schools name\n",
    "school = pd.Series(df['school']).unique()\n",
    "\n",
    "# plot a bar graph with schools and sentment analysis result\n",
    "df3=pd.DataFrame(np.zeros((13, 3),int),index=school,columns=pd.Index(['pos', 'neg',\"neu\"]))\n",
    "for senti in [\"pos\", 'neg',\"neu\"]:\n",
    "    for name in school:\n",
    "        tempdf2 = df[df['comp_score']==senti]\n",
    "        tempdf2 = tempdf2[tempdf2[\"school\"]==name]\n",
    "        num2 = len(tempdf2)\n",
    "        df3[senti][name]=num2 \n",
    "df3.plot.bar()\n",
    "plt.savefig(r'C:\\Users\\94333\\Python\\Github\\spring-2022-prj1-Hayinn\\figs\\authors_vs_sentment_result.png')"
   ]
  },
  {
   "cell_type": "code",
   "execution_count": null,
   "id": "fdacf9df",
   "metadata": {},
   "outputs": [],
   "source": [
    "# to see authors belong to which schools\n",
    "df.groupby(\"school\")[\"author\"].unique()"
   ]
  },
  {
   "cell_type": "code",
   "execution_count": null,
   "id": "7a5536dd",
   "metadata": {},
   "outputs": [],
   "source": [
    "# to show the authors in continental group\n",
    "df4 = df[df[\"school\"] == 'continental']\n",
    "cont = pd.Series(df4['author']).unique()\n",
    "cont"
   ]
  },
  {
   "cell_type": "code",
   "execution_count": null,
   "id": "595293b2",
   "metadata": {},
   "outputs": [],
   "source": [
    "# similar bar graph with only continental authors included\n",
    "df5 = pd.DataFrame(np.zeros((3, 3),int),index=cont,columns=pd.Index(['pos', 'neg',\"neu\"]))\n",
    "for senti in [\"pos\", 'neg',\"neu\"]:\n",
    "    for name in cont:\n",
    "        tempdf3 = df[df['comp_score']==senti]\n",
    "        tempdf3 = tempdf3[tempdf3[\"author\"]==name]\n",
    "        num3 = len(tempdf3)\n",
    "        df5[senti][name]=num3 \n",
    "df5.plot.bar()\n",
    "plt.savefig(r'C:\\Users\\94333\\Python\\Github\\spring-2022-prj1-Hayinn\\figs\\cont_vs_sentment_result.png')"
   ]
  },
  {
   "cell_type": "code",
   "execution_count": null,
   "id": "5766dd9b",
   "metadata": {},
   "outputs": [],
   "source": [
    "# define wordcloud plot function\n",
    "def plot_wordcloud(text,title):\n",
    "    wordcloud = WordCloud(background_color=\"white\",\n",
    "                        stopwords = set(STOPWORDS),\n",
    "                        max_words = 100,\n",
    "                         max_font_size = 40,\n",
    "                         relative_scaling = 1,\n",
    "                         random_state = 3\n",
    "    ).generate(str(text))\n",
    "    fig = plt.figure(figsize = (8,8))\n",
    "    plt.axis('off')\n",
    "    plt.title(title)\n",
    "    plt.imshow(wordcloud)"
   ]
  },
  {
   "cell_type": "code",
   "execution_count": null,
   "id": "35814508",
   "metadata": {},
   "outputs": [],
   "source": [
    "# plot wordcloud for continental authors\n",
    "for i in cont:\n",
    "    could_0 = df.loc[df['author'] == i]['sentence_lowered']\n",
    "    plot_wordcloud(could_0,i)\n",
    "    name = r'C:\\Users\\94333\\Python\\Github\\spring-2022-prj1-Hayinn\\figs\\wordcloud_' + str(i) + '.png'\n",
    "    plt.savefig(name)\n",
    "plt.show()"
   ]
  },
  {
   "cell_type": "code",
   "execution_count": null,
   "id": "1e84af54",
   "metadata": {},
   "outputs": [],
   "source": [
    "# plot wordcloud for authors in nietzsche school and in feminism school\n",
    "for i in [\"nietzsche\",\"feminism\"]:\n",
    "    df_6 =df.loc[df[\"school\"]==i]\n",
    "    author1 = pd.Series(df_6[\"author\"]).unique()\n",
    "    for j in author1:\n",
    "        could_0 = df.loc[df['author'] == j]['sentence_lowered']\n",
    "        plot_wordcloud(could_0,j)\n",
    "        name = r'C:\\Users\\94333\\Python\\Github\\spring-2022-prj1-Hayinn\\figs\\wordcloud_' + str(j) + '.png'\n",
    "        plt.savefig(name)"
   ]
  }
 ],
 "metadata": {
  "kernelspec": {
   "display_name": "env_ds_39",
   "language": "python",
   "name": "env_ds_39"
  },
  "language_info": {
   "codemirror_mode": {
    "name": "ipython",
    "version": 3
   },
   "file_extension": ".py",
   "mimetype": "text/x-python",
   "name": "python",
   "nbconvert_exporter": "python",
   "pygments_lexer": "ipython3",
   "version": "3.9.7"
  }
 },
 "nbformat": 4,
 "nbformat_minor": 5
}
